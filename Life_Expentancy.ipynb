{
 "cells": [
  {
   "cell_type": "code",
   "execution_count": null,
   "id": "347a878d-cc39-4816-83cf-5b202d27ad95",
   "metadata": {},
   "outputs": [],
   "source": [
    "import requests\n",
    "import pandas as pd"
   ]
  },
  {
   "cell_type": "code",
   "execution_count": null,
   "id": "437de982-c623-4df5-95fd-553921ce0555",
   "metadata": {},
   "outputs": [],
   "source": [
    "url = (\"http://api.worldbank.org/v2/country/all/indicator/SP.DYN.LE00.IN\"\"?format=json&per_page=20000\")"
   ]
  },
  {
   "cell_type": "code",
   "execution_count": null,
   "id": "1a134ad7-10f2-407a-8182-4dd32dd9541b",
   "metadata": {},
   "outputs": [],
   "source": [
    "response = requests.get(url)\n",
    "data = response.json()"
   ]
  },
  {
   "cell_type": "code",
   "execution_count": null,
   "id": "246734cf-82e6-4ae6-b0e0-ba7667144581",
   "metadata": {},
   "outputs": [],
   "source": [
    "records = data[1]\n",
    "\n",
    "df = pd.DataFrame.from_records(records)\n",
    "df = df[['country', 'date', 'value']]"
   ]
  },
  {
   "cell_type": "code",
   "execution_count": null,
   "id": "16c78a75-9d09-4245-aa84-b6098db72a57",
   "metadata": {},
   "outputs": [],
   "source": [
    "df['country'] = df['country'].apply(lambda x: x['value'])\n",
    "\n",
    "# Save to CSV\n",
    "df.to_csv(\"countries_life_expentancy.csv\", index=False)"
   ]
  },
  {
   "cell_type": "code",
   "execution_count": null,
   "id": "5ba7c452-3ab3-47d1-b81f-7c23fd18a6be",
   "metadata": {},
   "outputs": [],
   "source": []
  }
 ],
 "metadata": {
  "kernelspec": {
   "display_name": "Python [conda env:base] *",
   "language": "python",
   "name": "conda-base-py"
  },
  "language_info": {
   "codemirror_mode": {
    "name": "ipython",
    "version": 3
   },
   "file_extension": ".py",
   "mimetype": "text/x-python",
   "name": "python",
   "nbconvert_exporter": "python",
   "pygments_lexer": "ipython3",
   "version": "3.12.7"
  }
 },
 "nbformat": 4,
 "nbformat_minor": 5
}
